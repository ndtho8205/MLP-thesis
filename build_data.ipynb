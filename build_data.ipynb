{
 "cells": [
  {
   "cell_type": "code",
   "execution_count": 1,
   "metadata": {
    "ExecuteTime": {
     "end_time": "2018-06-26T13:55:35.220050Z",
     "start_time": "2018-06-26T13:55:33.841268Z"
    }
   },
   "outputs": [],
   "source": [
    "import numpy as np\n",
    "import tensorflow as tf\n",
    "import pandas as pd\n",
    "from mlp import MLP"
   ]
  },
  {
   "cell_type": "code",
   "execution_count": null,
   "metadata": {
    "ExecuteTime": {
     "end_time": "2018-05-31T19:49:30.764404Z",
     "start_time": "2018-05-31T19:49:30.748366Z"
    }
   },
   "outputs": [],
   "source": []
  },
  {
   "cell_type": "code",
   "execution_count": 2,
   "metadata": {
    "ExecuteTime": {
     "end_time": "2018-06-26T13:55:35.718204Z",
     "start_time": "2018-06-26T13:55:35.714443Z"
    }
   },
   "outputs": [],
   "source": [
    "TRAINING_DATA_PATH = '/home/ndtho8205/Documents/Projects/thesis/MLP-thesis/train_data_scaled.csv'\n",
    "VALIDATE_DATA_PATH = '/home/ndtho8205/Documents/Projects/thesis/MLP-thesis/test_data_scaled.csv'"
   ]
  },
  {
   "cell_type": "code",
   "execution_count": 3,
   "metadata": {
    "ExecuteTime": {
     "end_time": "2018-06-26T13:55:36.806629Z",
     "start_time": "2018-06-26T13:55:36.785311Z"
    }
   },
   "outputs": [],
   "source": [
    "X_train = y_train = None\n",
    "if TRAINING_DATA_PATH:\n",
    "    training_data = pd.read_csv(TRAINING_DATA_PATH, sep=';', header=None)\n",
    "    X_train = training_data[training_data.columns[1:]].values\n",
    "    y_train = training_data[training_data.columns[0]].values\n",
    "    \n",
    "    training_data"
   ]
  },
  {
   "cell_type": "code",
   "execution_count": 8,
   "metadata": {
    "ExecuteTime": {
     "end_time": "2018-06-26T14:00:06.956869Z",
     "start_time": "2018-06-26T14:00:06.943272Z"
    }
   },
   "outputs": [],
   "source": [
    "X_val = y_val = None\n",
    "if VALIDATE_DATA_PATH:\n",
    "    validate_data = pd.read_csv(VALIDATE_DATA_PATH, sep=';', header=None)\n",
    "    X_val = validate_data[validate_data.columns[1:]].values\n",
    "    y_val = validate_data[validate_data.columns[0]].values\n",
    "\n",
    "    validate_data\n"
   ]
  },
  {
   "cell_type": "code",
   "execution_count": null,
   "metadata": {
    "ExecuteTime": {
     "end_time": "2018-06-01T20:51:05.988163Z",
     "start_time": "2018-06-01T20:51:05.980441Z"
    }
   },
   "outputs": [],
   "source": []
  },
  {
   "cell_type": "code",
   "execution_count": 11,
   "metadata": {
    "ExecuteTime": {
     "end_time": "2018-06-26T14:01:18.037862Z",
     "start_time": "2018-06-26T14:01:16.897819Z"
    }
   },
   "outputs": [
    {
     "name": "stdout",
     "output_type": "stream",
     "text": [
      "Train: 5.746675014 - 0.350\n",
      "Validate: 4.323531151 - 0.148\n",
      "Train: 1.024164438 - 0.780\n",
      "Validate: 0.906802118 - 0.852\n",
      "Train: 0.655045748 - 0.780\n",
      "Validate: 0.544167697 - 0.768\n",
      "Train: 0.592075825 - 0.770\n",
      "Validate: 0.502698839 - 0.765\n",
      "Train: 0.473058313 - 0.800\n",
      "Validate: 0.403446168 - 0.826\n",
      "Train: 0.505437434 - 0.750\n",
      "Validate: 0.444923341 - 0.737\n",
      "Train: 0.311537832 - 0.910\n",
      "Validate: 0.319786757 - 0.927\n",
      "Train: 0.312989384 - 0.840\n",
      "Validate: 0.389441162 - 0.751\n",
      "Train: 0.327609211 - 0.920\n",
      "Validate: 0.315911353 - 0.839\n",
      "Train: 0.304879457 - 0.880\n",
      "Validate: 0.330166638 - 0.812\n",
      "Train: 0.301927596 - 0.870\n",
      "Validate: 0.342646718 - 0.809\n",
      "Train: 0.194260329 - 0.940\n",
      "Validate: 0.304504871 - 0.842\n",
      "Train: 0.277263731 - 0.910\n",
      "Validate: 0.371654302 - 0.798\n",
      "Train: 0.224840358 - 0.920\n",
      "Validate: 0.310022205 - 0.824\n",
      "Train: 0.172672048 - 0.970\n",
      "Validate: 0.368119121 - 0.797\n",
      "Train: 0.172908366 - 0.950\n",
      "Validate: 0.328247517 - 0.812\n",
      "Train: 0.207325801 - 0.930\n",
      "Validate: 0.298545331 - 0.831\n",
      "Train: 0.177132323 - 0.940\n",
      "Validate: 0.364835769 - 0.808\n",
      "Train: 0.117040336 - 0.990\n",
      "Validate: 0.329137892 - 0.817\n",
      "Train: 0.148151979 - 0.960\n",
      "Validate: 0.355799794 - 0.815\n",
      "Train: 0.214774430 - 0.940\n",
      "Validate: 0.349343985 - 0.817\n",
      "Train: 0.129638135 - 0.960\n",
      "Validate: 0.340948910 - 0.817\n",
      "Train: 0.138038233 - 0.980\n",
      "Validate: 0.364944756 - 0.818\n",
      "Train: 0.182130009 - 0.940\n",
      "Validate: 0.365427971 - 0.818\n",
      "Train: 0.171984956 - 0.930\n",
      "Validate: 0.342982501 - 0.817\n",
      "INFO:tensorflow:Restoring parameters from ./models/mlp/mlpThesis.ckpt\n"
     ]
    },
    {
     "name": "stderr",
     "output_type": "stream",
     "text": [
      "INFO:tensorflow:Restoring parameters from ./models/mlp/mlpThesis.ckpt\n"
     ]
    },
    {
     "name": "stdout",
     "output_type": "stream",
     "text": [
      "INFO:tensorflow:Froze 4 variables.\n"
     ]
    },
    {
     "name": "stderr",
     "output_type": "stream",
     "text": [
      "INFO:tensorflow:Froze 4 variables.\n"
     ]
    },
    {
     "name": "stdout",
     "output_type": "stream",
     "text": [
      "Converted 4 variables to const ops.\n"
     ]
    }
   ],
   "source": [
    "mlp = MLP()\n",
    "mlp.fit(X_train, y_train, X_val, y_val)"
   ]
  },
  {
   "cell_type": "code",
   "execution_count": 6,
   "metadata": {
    "ExecuteTime": {
     "end_time": "2018-06-01T20:54:45.799903Z",
     "start_time": "2018-06-01T20:54:45.589940Z"
    }
   },
   "outputs": [
    {
     "ename": "NameError",
     "evalue": "name 'X' is not defined",
     "output_type": "error",
     "traceback": [
      "\u001b[0;31m-------------------------------------------------------\u001b[0m",
      "\u001b[0;31mNameError\u001b[0m             Traceback (most recent call last)",
      "\u001b[0;32m<ipython-input-6-b5fec669aca1>\u001b[0m in \u001b[0;36m<module>\u001b[0;34m()\u001b[0m\n\u001b[0;32m----> 1\u001b[0;31m \u001b[0mX\u001b[0m\u001b[0;34m\u001b[0m\u001b[0m\n\u001b[0m",
      "\u001b[0;31mNameError\u001b[0m: name 'X' is not defined"
     ]
    }
   ],
   "source": [
    "X"
   ]
  },
  {
   "cell_type": "code",
   "execution_count": null,
   "metadata": {
    "ExecuteTime": {
     "end_time": "2018-06-01T20:54:45.801782Z",
     "start_time": "2018-06-01T20:54:12.363Z"
    }
   },
   "outputs": [],
   "source": [
    "import main"
   ]
  },
  {
   "cell_type": "code",
   "execution_count": null,
   "metadata": {
    "ExecuteTime": {
     "end_time": "2018-06-01T20:54:45.804635Z",
     "start_time": "2018-06-01T20:54:12.367Z"
    }
   },
   "outputs": [],
   "source": [
    "print(main.predict(X))"
   ]
  },
  {
   "cell_type": "code",
   "execution_count": null,
   "metadata": {},
   "outputs": [],
   "source": []
  }
 ],
 "metadata": {
  "kernelspec": {
   "display_name": "Python 3",
   "language": "python",
   "name": "python3"
  },
  "language_info": {
   "codemirror_mode": {
    "name": "ipython",
    "version": 3
   },
   "file_extension": ".py",
   "mimetype": "text/x-python",
   "name": "python",
   "nbconvert_exporter": "python",
   "pygments_lexer": "ipython3",
   "version": "3.6.5"
  },
  "latex_envs": {
   "LaTeX_envs_menu_present": true,
   "autoclose": false,
   "autocomplete": true,
   "bibliofile": "biblio.bib",
   "cite_by": "apalike",
   "current_citInitial": 1,
   "eqLabelWithNumbers": true,
   "eqNumInitial": 1,
   "hotkeys": {
    "equation": "Ctrl-E",
    "itemize": "Ctrl-I"
   },
   "labels_anchors": false,
   "latex_user_defs": false,
   "report_style_numbering": false,
   "user_envs_cfg": false
  },
  "toc": {
   "base_numbering": 1,
   "nav_menu": {},
   "number_sections": true,
   "sideBar": true,
   "skip_h1_title": false,
   "title_cell": "Table of Contents",
   "title_sidebar": "Contents",
   "toc_cell": false,
   "toc_position": {},
   "toc_section_display": true,
   "toc_window_display": false
  },
  "varInspector": {
   "cols": {
    "lenName": 16,
    "lenType": 16,
    "lenVar": 40
   },
   "kernels_config": {
    "python": {
     "delete_cmd_postfix": "",
     "delete_cmd_prefix": "del ",
     "library": "var_list.py",
     "varRefreshCmd": "print(var_dic_list())"
    },
    "r": {
     "delete_cmd_postfix": ") ",
     "delete_cmd_prefix": "rm(",
     "library": "var_list.r",
     "varRefreshCmd": "cat(var_dic_list()) "
    }
   },
   "types_to_exclude": [
    "module",
    "function",
    "builtin_function_or_method",
    "instance",
    "_Feature"
   ],
   "window_display": false
  }
 },
 "nbformat": 4,
 "nbformat_minor": 2
}
