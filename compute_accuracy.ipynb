{
 "cells": [
  {
   "cell_type": "code",
   "execution_count": 48,
   "metadata": {
    "ExecuteTime": {
     "end_time": "2018-05-31T21:45:11.484026Z",
     "start_time": "2018-05-31T21:45:11.478016Z"
    }
   },
   "outputs": [],
   "source": [
    "import numpy as np\n",
    "import tensorflow as tf\n",
    "import pandas as pd\n",
    "from mlp import MLP"
   ]
  },
  {
   "cell_type": "code",
   "execution_count": null,
   "metadata": {
    "ExecuteTime": {
     "end_time": "2018-05-31T21:09:14.639770Z",
     "start_time": "2018-05-31T21:09:10.189997Z"
    }
   },
   "outputs": [],
   "source": []
  },
  {
   "cell_type": "code",
   "execution_count": 49,
   "metadata": {
    "ExecuteTime": {
     "end_time": "2018-05-31T21:45:12.273877Z",
     "start_time": "2018-05-31T21:45:12.269656Z"
    }
   },
   "outputs": [],
   "source": [
    "TEST_PATH = './data/test_data.txt'"
   ]
  },
  {
   "cell_type": "code",
   "execution_count": 77,
   "metadata": {
    "ExecuteTime": {
     "end_time": "2018-05-31T22:01:56.172428Z",
     "start_time": "2018-05-31T22:01:55.919275Z"
    }
   },
   "outputs": [
    {
     "name": "stdout",
     "output_type": "stream",
     "text": [
      "INFO:tensorflow:Restoring parameters from ./models/mlp/mlpThesis.ckpt\n"
     ]
    },
    {
     "name": "stderr",
     "output_type": "stream",
     "text": [
      "INFO:tensorflow:Restoring parameters from ./models/mlp/mlpThesis.ckpt\n"
     ]
    }
   ],
   "source": [
    "mlp = MLP()\n",
    "mlp.load()"
   ]
  },
  {
   "cell_type": "code",
   "execution_count": 81,
   "metadata": {
    "ExecuteTime": {
     "end_time": "2018-05-31T22:02:30.345820Z",
     "start_time": "2018-05-31T22:02:30.331109Z"
    }
   },
   "outputs": [],
   "source": [
    "test_data = pd.read_csv(TEST_PATH, sep=';', header=None)\n",
    "X_test = test_data[test_data.columns[1:]].values\n",
    "y_test = test_data[test_data.columns[0]].values"
   ]
  },
  {
   "cell_type": "code",
   "execution_count": 82,
   "metadata": {
    "ExecuteTime": {
     "end_time": "2018-05-31T22:02:32.280621Z",
     "start_time": "2018-05-31T22:02:32.246502Z"
    },
    "scrolled": true
   },
   "outputs": [
    {
     "name": "stdout",
     "output_type": "stream",
     "text": [
      "14\n",
      "Actual: 0 \t Predicted: 0\n",
      "Actual: 0 \t Predicted: 0\n",
      "Actual: 0 \t Predicted: 0\n",
      "Actual: 0 \t Predicted: 0\n",
      "Actual: 0 \t Predicted: 0\n",
      "Actual: 0 \t Predicted: 0\n",
      "Actual: 0 \t Predicted: 0\n",
      "Actual: 1 \t Predicted: 0\n",
      "Actual: 1 \t Predicted: 0\n",
      "Actual: 1 \t Predicted: 0\n",
      "Actual: 1 \t Predicted: 0\n",
      "Actual: 1 \t Predicted: 0\n",
      "Actual: 1 \t Predicted: 0\n",
      "Actual: 1 \t Predicted: 0\n"
     ]
    }
   ],
   "source": [
    "accuracy = 0\n",
    "test_size = y_test.shape[0]\n",
    "print(test_size)\n",
    "\n",
    "for i in range(0, test_size):\n",
    "    actual = y_test[i]\n",
    "    predicted = mlp.predict([np.tile(X_test[0], 64)])\n",
    "    if actual == predicted:\n",
    "        accuracy += 1\n",
    "    print('Actual: {} \\t Predicted: {}'.format(actual, predicted))\n",
    "    \n",
    "accuracy /= test_size"
   ]
  },
  {
   "cell_type": "code",
   "execution_count": 83,
   "metadata": {
    "ExecuteTime": {
     "end_time": "2018-05-31T22:02:32.626485Z",
     "start_time": "2018-05-31T22:02:32.617494Z"
    },
    "scrolled": true
   },
   "outputs": [
    {
     "data": {
      "text/plain": [
       "0.5"
      ]
     },
     "execution_count": 83,
     "metadata": {},
     "output_type": "execute_result"
    }
   ],
   "source": [
    "accuracy"
   ]
  },
  {
   "cell_type": "code",
   "execution_count": null,
   "metadata": {},
   "outputs": [],
   "source": []
  }
 ],
 "metadata": {
  "kernelspec": {
   "display_name": "Python 3",
   "language": "python",
   "name": "python3"
  },
  "language_info": {
   "codemirror_mode": {
    "name": "ipython",
    "version": 3
   },
   "file_extension": ".py",
   "mimetype": "text/x-python",
   "name": "python",
   "nbconvert_exporter": "python",
   "pygments_lexer": "ipython3",
   "version": "3.6.4"
  },
  "toc": {
   "nav_menu": {},
   "number_sections": true,
   "sideBar": true,
   "skip_h1_title": false,
   "title_cell": "Table of Contents",
   "title_sidebar": "Contents",
   "toc_cell": false,
   "toc_position": {},
   "toc_section_display": true,
   "toc_window_display": false
  },
  "varInspector": {
   "cols": {
    "lenName": 16,
    "lenType": 16,
    "lenVar": 40
   },
   "kernels_config": {
    "python": {
     "delete_cmd_postfix": "",
     "delete_cmd_prefix": "del ",
     "library": "var_list.py",
     "varRefreshCmd": "print(var_dic_list())"
    },
    "r": {
     "delete_cmd_postfix": ") ",
     "delete_cmd_prefix": "rm(",
     "library": "var_list.r",
     "varRefreshCmd": "cat(var_dic_list()) "
    }
   },
   "types_to_exclude": [
    "module",
    "function",
    "builtin_function_or_method",
    "instance",
    "_Feature"
   ],
   "window_display": false
  }
 },
 "nbformat": 4,
 "nbformat_minor": 2
}
